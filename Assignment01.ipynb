{
 "cells": [
  {
   "cell_type": "markdown",
   "metadata": {},
   "source": [
    "# Assignment 01\n",
    "Name:  Sukhneet Kaur\n",
    "\n",
    "Class: INST447  \n",
    "\n",
    "Section:  0101"
   ]
  },
  {
   "cell_type": "markdown",
   "metadata": {},
   "source": [
    "## EX 01\n",
    "(20pts total) \n",
    "\n",
    "Find 2 datasets that when combined answer a question that could not be answered by a single dataset alone. This is similar to Worksheet 03 where we wanted to know if ride counts were impacted by the weather.\n",
    "\n",
    "Download the files and save them in the folder named \"data\" that is in the same folder as this file.\n",
    "\n",
    "Please provide a link to where you found these files (the landing page for each file):  \n",
    "(5pts each file)  "
   ]
  },
  {
   "cell_type": "markdown",
   "metadata": {},
   "source": [
    "1)  https://catalog.data.gov/dataset/parking-violations-issued-fiscal-year-2016 \n",
    "\n",
    "2)  https://catalog.data.gov/dataset/2016-green-taxi-trip-data  "
   ]
  },
  {
   "cell_type": "markdown",
   "metadata": {},
   "source": [
    "Tell me what question you intend to answer with these data: (10pts)"
   ]
  },
  {
   "cell_type": "markdown",
   "metadata": {},
   "source": [
    "Question: Did the number of parking violations increase the use of taxis in New York City during the year of 2016? "
   ]
  },
  {
   "cell_type": "code",
   "execution_count": 73,
   "metadata": {
    "collapsed": true
   },
   "outputs": [],
   "source": [
    "# Standard Includes\n",
    "import pandas as pd\n",
    "import numpy as np\n",
    "import matplotlib.pyplot as plt\n",
    "import matplotlib.dates as mdates\n",
    "import seaborn as sns\n",
    "import os\n",
    "import datetime\n",
    "%matplotlib inline"
   ]
  },
  {
   "cell_type": "markdown",
   "metadata": {},
   "source": [
    "## EX02\n",
    "(15 pts)  \n",
    "\n",
    "Now open and clean the first data file. All of the data types need to make sense. All columns should be descriptively named. There needs to be an index."
   ]
  },
  {
   "cell_type": "code",
   "execution_count": 74,
   "metadata": {},
   "outputs": [
    {
     "name": "stderr",
     "output_type": "stream",
     "text": [
      "/Users/Sukhi/anaconda/lib/python3.6/site-packages/IPython/core/interactiveshell.py:2717: DtypeWarning: Columns (17,18,20,21,22,23,29,30,31,32,34,36,38,39) have mixed types. Specify dtype option on import or set low_memory=False.\n",
      "  interactivity=interactivity, compiler=compiler, result=result)\n"
     ]
    }
   ],
   "source": [
    "violations = pd.read_csv('/Users/Sukhi/Desktop/Assignment 1/data/Parking_Violations_Issued_2016.csv')"
   ]
  },
  {
   "cell_type": "code",
   "execution_count": 75,
   "metadata": {},
   "outputs": [
    {
     "data": {
      "text/html": [
       "<div>\n",
       "<style>\n",
       "    .dataframe thead tr:only-child th {\n",
       "        text-align: right;\n",
       "    }\n",
       "\n",
       "    .dataframe thead th {\n",
       "        text-align: left;\n",
       "    }\n",
       "\n",
       "    .dataframe tbody tr th {\n",
       "        vertical-align: top;\n",
       "    }\n",
       "</style>\n",
       "<table border=\"1\" class=\"dataframe\">\n",
       "  <thead>\n",
       "    <tr style=\"text-align: right;\">\n",
       "      <th></th>\n",
       "      <th>Summons Number</th>\n",
       "      <th>Plate ID</th>\n",
       "      <th>Registration State</th>\n",
       "      <th>Plate Type</th>\n",
       "      <th>Issue Date</th>\n",
       "      <th>Violation Code</th>\n",
       "      <th>Vehicle Body Type</th>\n",
       "      <th>Vehicle Make</th>\n",
       "      <th>Issuing Agency</th>\n",
       "      <th>Street Code1</th>\n",
       "      <th>...</th>\n",
       "      <th>Vehicle Color</th>\n",
       "      <th>Unregistered Vehicle?</th>\n",
       "      <th>Vehicle Year</th>\n",
       "      <th>Meter Number</th>\n",
       "      <th>Feet From Curb</th>\n",
       "      <th>Violation Post Code</th>\n",
       "      <th>Violation Description</th>\n",
       "      <th>No Standing or Stopping Violation</th>\n",
       "      <th>Hydrant Violation</th>\n",
       "      <th>Double Parking Violation</th>\n",
       "    </tr>\n",
       "  </thead>\n",
       "  <tbody>\n",
       "    <tr>\n",
       "      <th>10626894</th>\n",
       "      <td>8359500927</td>\n",
       "      <td>FFM1969</td>\n",
       "      <td>NY</td>\n",
       "      <td>PAS</td>\n",
       "      <td>06/08/2016</td>\n",
       "      <td>38</td>\n",
       "      <td>SUBN</td>\n",
       "      <td>TOYOT</td>\n",
       "      <td>T</td>\n",
       "      <td>25590</td>\n",
       "      <td>...</td>\n",
       "      <td>BLUE</td>\n",
       "      <td>NaN</td>\n",
       "      <td>2013.0</td>\n",
       "      <td>NaN</td>\n",
       "      <td>0.0</td>\n",
       "      <td>04 2</td>\n",
       "      <td>38-Failure to Display Muni Rec</td>\n",
       "      <td>NaN</td>\n",
       "      <td>NaN</td>\n",
       "      <td>NaN</td>\n",
       "    </tr>\n",
       "    <tr>\n",
       "      <th>10626895</th>\n",
       "      <td>8359500940</td>\n",
       "      <td>2482082</td>\n",
       "      <td>IN</td>\n",
       "      <td>PAS</td>\n",
       "      <td>06/08/2016</td>\n",
       "      <td>51</td>\n",
       "      <td>VAN</td>\n",
       "      <td>FRUEH</td>\n",
       "      <td>T</td>\n",
       "      <td>73980</td>\n",
       "      <td>...</td>\n",
       "      <td>WHITE</td>\n",
       "      <td>NaN</td>\n",
       "      <td>0.0</td>\n",
       "      <td>NaN</td>\n",
       "      <td>0.0</td>\n",
       "      <td>04 2</td>\n",
       "      <td>51-Sidewalk</td>\n",
       "      <td>NaN</td>\n",
       "      <td>NaN</td>\n",
       "      <td>NaN</td>\n",
       "    </tr>\n",
       "    <tr>\n",
       "      <th>10626896</th>\n",
       "      <td>8359500952</td>\n",
       "      <td>65919JW</td>\n",
       "      <td>NY</td>\n",
       "      <td>COM</td>\n",
       "      <td>06/08/2016</td>\n",
       "      <td>52</td>\n",
       "      <td>VAN</td>\n",
       "      <td>FRUEH</td>\n",
       "      <td>T</td>\n",
       "      <td>0</td>\n",
       "      <td>...</td>\n",
       "      <td>BROWN</td>\n",
       "      <td>NaN</td>\n",
       "      <td>2007.0</td>\n",
       "      <td>NaN</td>\n",
       "      <td>0.0</td>\n",
       "      <td>04 2</td>\n",
       "      <td>52-Intersection</td>\n",
       "      <td>NaN</td>\n",
       "      <td>NaN</td>\n",
       "      <td>NaN</td>\n",
       "    </tr>\n",
       "    <tr>\n",
       "      <th>10626897</th>\n",
       "      <td>8359500964</td>\n",
       "      <td>68718MG</td>\n",
       "      <td>NY</td>\n",
       "      <td>COM</td>\n",
       "      <td>06/08/2016</td>\n",
       "      <td>82</td>\n",
       "      <td>PICK</td>\n",
       "      <td>DODGE</td>\n",
       "      <td>T</td>\n",
       "      <td>0</td>\n",
       "      <td>...</td>\n",
       "      <td>WH</td>\n",
       "      <td>NaN</td>\n",
       "      <td>2015.0</td>\n",
       "      <td>NaN</td>\n",
       "      <td>0.0</td>\n",
       "      <td>04 2</td>\n",
       "      <td>82-Unaltered Commerc Vehicle</td>\n",
       "      <td>NaN</td>\n",
       "      <td>NaN</td>\n",
       "      <td>NaN</td>\n",
       "    </tr>\n",
       "    <tr>\n",
       "      <th>10626898</th>\n",
       "      <td>8359500976</td>\n",
       "      <td>FZX4974</td>\n",
       "      <td>NY</td>\n",
       "      <td>PAS</td>\n",
       "      <td>06/08/2016</td>\n",
       "      <td>38</td>\n",
       "      <td>4DSD</td>\n",
       "      <td>HONDA</td>\n",
       "      <td>T</td>\n",
       "      <td>0</td>\n",
       "      <td>...</td>\n",
       "      <td>BK</td>\n",
       "      <td>NaN</td>\n",
       "      <td>2013.0</td>\n",
       "      <td>NaN</td>\n",
       "      <td>0.0</td>\n",
       "      <td>04 2</td>\n",
       "      <td>38-Failure to Display Muni Rec</td>\n",
       "      <td>NaN</td>\n",
       "      <td>NaN</td>\n",
       "      <td>NaN</td>\n",
       "    </tr>\n",
       "  </tbody>\n",
       "</table>\n",
       "<p>5 rows × 43 columns</p>\n",
       "</div>"
      ],
      "text/plain": [
       "          Summons Number Plate ID Registration State Plate Type  Issue Date  \\\n",
       "10626894      8359500927  FFM1969                 NY        PAS  06/08/2016   \n",
       "10626895      8359500940  2482082                 IN        PAS  06/08/2016   \n",
       "10626896      8359500952  65919JW                 NY        COM  06/08/2016   \n",
       "10626897      8359500964  68718MG                 NY        COM  06/08/2016   \n",
       "10626898      8359500976  FZX4974                 NY        PAS  06/08/2016   \n",
       "\n",
       "          Violation Code Vehicle Body Type Vehicle Make Issuing Agency  \\\n",
       "10626894              38              SUBN        TOYOT              T   \n",
       "10626895              51               VAN        FRUEH              T   \n",
       "10626896              52               VAN        FRUEH              T   \n",
       "10626897              82              PICK        DODGE              T   \n",
       "10626898              38              4DSD        HONDA              T   \n",
       "\n",
       "          Street Code1           ...             Vehicle Color  \\\n",
       "10626894         25590           ...                      BLUE   \n",
       "10626895         73980           ...                     WHITE   \n",
       "10626896             0           ...                     BROWN   \n",
       "10626897             0           ...                        WH   \n",
       "10626898             0           ...                        BK   \n",
       "\n",
       "          Unregistered Vehicle?  Vehicle Year  Meter Number  Feet From Curb  \\\n",
       "10626894                    NaN        2013.0           NaN             0.0   \n",
       "10626895                    NaN           0.0           NaN             0.0   \n",
       "10626896                    NaN        2007.0           NaN             0.0   \n",
       "10626897                    NaN        2015.0           NaN             0.0   \n",
       "10626898                    NaN        2013.0           NaN             0.0   \n",
       "\n",
       "          Violation Post Code           Violation Description  \\\n",
       "10626894                 04 2  38-Failure to Display Muni Rec   \n",
       "10626895                 04 2                     51-Sidewalk   \n",
       "10626896                 04 2                 52-Intersection   \n",
       "10626897                 04 2    82-Unaltered Commerc Vehicle   \n",
       "10626898                 04 2  38-Failure to Display Muni Rec   \n",
       "\n",
       "         No Standing or Stopping Violation Hydrant Violation  \\\n",
       "10626894                               NaN               NaN   \n",
       "10626895                               NaN               NaN   \n",
       "10626896                               NaN               NaN   \n",
       "10626897                               NaN               NaN   \n",
       "10626898                               NaN               NaN   \n",
       "\n",
       "         Double Parking Violation  \n",
       "10626894                      NaN  \n",
       "10626895                      NaN  \n",
       "10626896                      NaN  \n",
       "10626897                      NaN  \n",
       "10626898                      NaN  \n",
       "\n",
       "[5 rows x 43 columns]"
      ]
     },
     "execution_count": 75,
     "metadata": {},
     "output_type": "execute_result"
    }
   ],
   "source": [
    "violations.tail()"
   ]
  },
  {
   "cell_type": "code",
   "execution_count": 76,
   "metadata": {
    "collapsed": true
   },
   "outputs": [],
   "source": [
    "violations = violations.filter(['Issue Date',], axis = 1)"
   ]
  },
  {
   "cell_type": "code",
   "execution_count": 77,
   "metadata": {
    "collapsed": true
   },
   "outputs": [],
   "source": [
    "violations['Issue Date']=pd.to_datetime(violations['Issue Date'], infer_datetime_format=True)"
   ]
  },
  {
   "cell_type": "code",
   "execution_count": 78,
   "metadata": {
    "collapsed": true
   },
   "outputs": [],
   "source": [
    "violations = violations[(violations['Issue Date'] >=  '2016-01-01') & (violations['Issue Date'] <= '2016-12-31')]"
   ]
  },
  {
   "cell_type": "code",
   "execution_count": 79,
   "metadata": {
    "collapsed": true
   },
   "outputs": [],
   "source": [
    "parking_violations = violations.groupby(['Issue Date'])['Issue Date'].count()"
   ]
  },
  {
   "cell_type": "code",
   "execution_count": 80,
   "metadata": {},
   "outputs": [
    {
     "name": "stdout",
     "output_type": "stream",
     "text": [
      "<class 'pandas.core.frame.DataFrame'>\n",
      "Int64Index: 4872621 entries, 542 to 10626898\n",
      "Data columns (total 1 columns):\n",
      "Issue Date    datetime64[ns]\n",
      "dtypes: datetime64[ns](1)\n",
      "memory usage: 74.4 MB\n"
     ]
    }
   ],
   "source": [
    "violations.info()"
   ]
  },
  {
   "cell_type": "code",
   "execution_count": 81,
   "metadata": {
    "collapsed": true
   },
   "outputs": [],
   "source": [
    "parking_violations = parking_violations.to_frame('Violations Count').reset_index()"
   ]
  },
  {
   "cell_type": "code",
   "execution_count": 82,
   "metadata": {
    "collapsed": true
   },
   "outputs": [],
   "source": [
    "parking_violations = parking_violations.rename(index=str, columns={\"Issue Date\": \"Violation Issue Date\"})"
   ]
  },
  {
   "cell_type": "code",
   "execution_count": 83,
   "metadata": {},
   "outputs": [
    {
     "data": {
      "text/html": [
       "<div>\n",
       "<style>\n",
       "    .dataframe thead tr:only-child th {\n",
       "        text-align: right;\n",
       "    }\n",
       "\n",
       "    .dataframe thead th {\n",
       "        text-align: left;\n",
       "    }\n",
       "\n",
       "    .dataframe tbody tr th {\n",
       "        vertical-align: top;\n",
       "    }\n",
       "</style>\n",
       "<table border=\"1\" class=\"dataframe\">\n",
       "  <thead>\n",
       "    <tr style=\"text-align: right;\">\n",
       "      <th></th>\n",
       "      <th>Violation Issue Date</th>\n",
       "      <th>Violations Count</th>\n",
       "    </tr>\n",
       "  </thead>\n",
       "  <tbody>\n",
       "    <tr>\n",
       "      <th>0</th>\n",
       "      <td>2016-01-01</td>\n",
       "      <td>5202</td>\n",
       "    </tr>\n",
       "    <tr>\n",
       "      <th>1</th>\n",
       "      <td>2016-01-02</td>\n",
       "      <td>16881</td>\n",
       "    </tr>\n",
       "    <tr>\n",
       "      <th>2</th>\n",
       "      <td>2016-01-03</td>\n",
       "      <td>7825</td>\n",
       "    </tr>\n",
       "    <tr>\n",
       "      <th>3</th>\n",
       "      <td>2016-01-04</td>\n",
       "      <td>36725</td>\n",
       "    </tr>\n",
       "    <tr>\n",
       "      <th>4</th>\n",
       "      <td>2016-01-05</td>\n",
       "      <td>37500</td>\n",
       "    </tr>\n",
       "  </tbody>\n",
       "</table>\n",
       "</div>"
      ],
      "text/plain": [
       "  Violation Issue Date  Violations Count\n",
       "0           2016-01-01              5202\n",
       "1           2016-01-02             16881\n",
       "2           2016-01-03              7825\n",
       "3           2016-01-04             36725\n",
       "4           2016-01-05             37500"
      ]
     },
     "execution_count": 83,
     "metadata": {},
     "output_type": "execute_result"
    }
   ],
   "source": [
    "parking_violations.head()"
   ]
  },
  {
   "cell_type": "markdown",
   "metadata": {},
   "source": [
    "## EX03\n",
    "(15 pts)\n",
    "\n",
    "Now open and clean the second data file. All of the data types need to make sense. All columns should be descriptively named. There needs to be an index."
   ]
  },
  {
   "cell_type": "code",
   "execution_count": 84,
   "metadata": {
    "collapsed": true
   },
   "outputs": [],
   "source": [
    "taxi = pd.read_csv('/Users/Sukhi/Desktop/Assignment 1/data/2016_Green_Taxi_Trip_Data.csv')"
   ]
  },
  {
   "cell_type": "code",
   "execution_count": 85,
   "metadata": {},
   "outputs": [
    {
     "data": {
      "text/html": [
       "<div>\n",
       "<style>\n",
       "    .dataframe thead tr:only-child th {\n",
       "        text-align: right;\n",
       "    }\n",
       "\n",
       "    .dataframe thead th {\n",
       "        text-align: left;\n",
       "    }\n",
       "\n",
       "    .dataframe tbody tr th {\n",
       "        vertical-align: top;\n",
       "    }\n",
       "</style>\n",
       "<table border=\"1\" class=\"dataframe\">\n",
       "  <thead>\n",
       "    <tr style=\"text-align: right;\">\n",
       "      <th></th>\n",
       "      <th>VendorID</th>\n",
       "      <th>lpep_pickup_datetime</th>\n",
       "      <th>Lpep_dropoff_datetime</th>\n",
       "      <th>Store_and_fwd_flag</th>\n",
       "      <th>RateCodeID</th>\n",
       "      <th>Pickup_longitude</th>\n",
       "      <th>Pickup_latitude</th>\n",
       "      <th>Dropoff_longitude</th>\n",
       "      <th>Dropoff_latitude</th>\n",
       "      <th>Passenger_count</th>\n",
       "      <th>...</th>\n",
       "      <th>MTA_tax</th>\n",
       "      <th>Tip_amount</th>\n",
       "      <th>Tolls_amount</th>\n",
       "      <th>Ehail_fee</th>\n",
       "      <th>improvement_surcharge</th>\n",
       "      <th>Total_amount</th>\n",
       "      <th>Payment_type</th>\n",
       "      <th>Trip_type</th>\n",
       "      <th>PULocationID</th>\n",
       "      <th>DOLocationID</th>\n",
       "    </tr>\n",
       "  </thead>\n",
       "  <tbody>\n",
       "    <tr>\n",
       "      <th>0</th>\n",
       "      <td>2</td>\n",
       "      <td>01/01/2016 12:29:24 AM</td>\n",
       "      <td>01/01/2016 12:39:36 AM</td>\n",
       "      <td>N</td>\n",
       "      <td>1</td>\n",
       "      <td>-73.928642</td>\n",
       "      <td>40.680611</td>\n",
       "      <td>-73.924278</td>\n",
       "      <td>40.698044</td>\n",
       "      <td>1</td>\n",
       "      <td>...</td>\n",
       "      <td>0.5</td>\n",
       "      <td>1.86</td>\n",
       "      <td>0.0</td>\n",
       "      <td>NaN</td>\n",
       "      <td>0.3</td>\n",
       "      <td>11.16</td>\n",
       "      <td>1</td>\n",
       "      <td>1.0</td>\n",
       "      <td>NaN</td>\n",
       "      <td>NaN</td>\n",
       "    </tr>\n",
       "    <tr>\n",
       "      <th>1</th>\n",
       "      <td>2</td>\n",
       "      <td>01/01/2016 12:19:39 AM</td>\n",
       "      <td>01/01/2016 12:39:18 AM</td>\n",
       "      <td>N</td>\n",
       "      <td>1</td>\n",
       "      <td>-73.952675</td>\n",
       "      <td>40.723175</td>\n",
       "      <td>-73.923920</td>\n",
       "      <td>40.761379</td>\n",
       "      <td>1</td>\n",
       "      <td>...</td>\n",
       "      <td>0.5</td>\n",
       "      <td>0.00</td>\n",
       "      <td>0.0</td>\n",
       "      <td>NaN</td>\n",
       "      <td>0.3</td>\n",
       "      <td>16.80</td>\n",
       "      <td>2</td>\n",
       "      <td>1.0</td>\n",
       "      <td>NaN</td>\n",
       "      <td>NaN</td>\n",
       "    </tr>\n",
       "    <tr>\n",
       "      <th>2</th>\n",
       "      <td>2</td>\n",
       "      <td>01/01/2016 12:19:33 AM</td>\n",
       "      <td>01/01/2016 12:39:48 AM</td>\n",
       "      <td>N</td>\n",
       "      <td>1</td>\n",
       "      <td>-73.971611</td>\n",
       "      <td>40.676105</td>\n",
       "      <td>-74.013161</td>\n",
       "      <td>40.646072</td>\n",
       "      <td>1</td>\n",
       "      <td>...</td>\n",
       "      <td>0.5</td>\n",
       "      <td>4.45</td>\n",
       "      <td>0.0</td>\n",
       "      <td>NaN</td>\n",
       "      <td>0.3</td>\n",
       "      <td>22.25</td>\n",
       "      <td>1</td>\n",
       "      <td>1.0</td>\n",
       "      <td>NaN</td>\n",
       "      <td>NaN</td>\n",
       "    </tr>\n",
       "    <tr>\n",
       "      <th>3</th>\n",
       "      <td>2</td>\n",
       "      <td>01/01/2016 12:22:12 AM</td>\n",
       "      <td>01/01/2016 12:38:32 AM</td>\n",
       "      <td>N</td>\n",
       "      <td>1</td>\n",
       "      <td>-73.989502</td>\n",
       "      <td>40.669579</td>\n",
       "      <td>-74.000648</td>\n",
       "      <td>40.689034</td>\n",
       "      <td>1</td>\n",
       "      <td>...</td>\n",
       "      <td>0.5</td>\n",
       "      <td>0.00</td>\n",
       "      <td>0.0</td>\n",
       "      <td>NaN</td>\n",
       "      <td>0.3</td>\n",
       "      <td>14.80</td>\n",
       "      <td>2</td>\n",
       "      <td>1.0</td>\n",
       "      <td>NaN</td>\n",
       "      <td>NaN</td>\n",
       "    </tr>\n",
       "    <tr>\n",
       "      <th>4</th>\n",
       "      <td>2</td>\n",
       "      <td>01/01/2016 12:24:01 AM</td>\n",
       "      <td>01/01/2016 12:39:22 AM</td>\n",
       "      <td>N</td>\n",
       "      <td>1</td>\n",
       "      <td>-73.964729</td>\n",
       "      <td>40.682854</td>\n",
       "      <td>-73.940720</td>\n",
       "      <td>40.663013</td>\n",
       "      <td>1</td>\n",
       "      <td>...</td>\n",
       "      <td>0.5</td>\n",
       "      <td>0.00</td>\n",
       "      <td>0.0</td>\n",
       "      <td>NaN</td>\n",
       "      <td>0.3</td>\n",
       "      <td>13.30</td>\n",
       "      <td>2</td>\n",
       "      <td>1.0</td>\n",
       "      <td>NaN</td>\n",
       "      <td>NaN</td>\n",
       "    </tr>\n",
       "  </tbody>\n",
       "</table>\n",
       "<p>5 rows × 23 columns</p>\n",
       "</div>"
      ],
      "text/plain": [
       "   VendorID    lpep_pickup_datetime   Lpep_dropoff_datetime  \\\n",
       "0         2  01/01/2016 12:29:24 AM  01/01/2016 12:39:36 AM   \n",
       "1         2  01/01/2016 12:19:39 AM  01/01/2016 12:39:18 AM   \n",
       "2         2  01/01/2016 12:19:33 AM  01/01/2016 12:39:48 AM   \n",
       "3         2  01/01/2016 12:22:12 AM  01/01/2016 12:38:32 AM   \n",
       "4         2  01/01/2016 12:24:01 AM  01/01/2016 12:39:22 AM   \n",
       "\n",
       "  Store_and_fwd_flag  RateCodeID  Pickup_longitude  Pickup_latitude  \\\n",
       "0                  N           1        -73.928642        40.680611   \n",
       "1                  N           1        -73.952675        40.723175   \n",
       "2                  N           1        -73.971611        40.676105   \n",
       "3                  N           1        -73.989502        40.669579   \n",
       "4                  N           1        -73.964729        40.682854   \n",
       "\n",
       "   Dropoff_longitude  Dropoff_latitude  Passenger_count      ...       \\\n",
       "0         -73.924278         40.698044                1      ...        \n",
       "1         -73.923920         40.761379                1      ...        \n",
       "2         -74.013161         40.646072                1      ...        \n",
       "3         -74.000648         40.689034                1      ...        \n",
       "4         -73.940720         40.663013                1      ...        \n",
       "\n",
       "   MTA_tax  Tip_amount  Tolls_amount  Ehail_fee  improvement_surcharge  \\\n",
       "0      0.5        1.86           0.0        NaN                    0.3   \n",
       "1      0.5        0.00           0.0        NaN                    0.3   \n",
       "2      0.5        4.45           0.0        NaN                    0.3   \n",
       "3      0.5        0.00           0.0        NaN                    0.3   \n",
       "4      0.5        0.00           0.0        NaN                    0.3   \n",
       "\n",
       "   Total_amount  Payment_type  Trip_type   PULocationID  DOLocationID  \n",
       "0         11.16             1         1.0           NaN           NaN  \n",
       "1         16.80             2         1.0           NaN           NaN  \n",
       "2         22.25             1         1.0           NaN           NaN  \n",
       "3         14.80             2         1.0           NaN           NaN  \n",
       "4         13.30             2         1.0           NaN           NaN  \n",
       "\n",
       "[5 rows x 23 columns]"
      ]
     },
     "execution_count": 85,
     "metadata": {},
     "output_type": "execute_result"
    }
   ],
   "source": [
    "taxi.head()"
   ]
  },
  {
   "cell_type": "code",
   "execution_count": 86,
   "metadata": {
    "collapsed": true
   },
   "outputs": [],
   "source": [
    "taxi['lpep_pickup_datetime']=pd.to_datetime(taxi['lpep_pickup_datetime'],format = '%m/%d/%Y %H:%M:%S %p')"
   ]
  },
  {
   "cell_type": "code",
   "execution_count": 87,
   "metadata": {
    "collapsed": true
   },
   "outputs": [],
   "source": [
    "taxi= taxi.filter(['lpep_pickup_datetime'], axis = 1)"
   ]
  },
  {
   "cell_type": "code",
   "execution_count": 88,
   "metadata": {},
   "outputs": [
    {
     "name": "stderr",
     "output_type": "stream",
     "text": [
      "/Users/Sukhi/anaconda/lib/python3.6/site-packages/ipykernel_launcher.py:1: FutureWarning: pandas.core.datetools.normalize_date is deprecated. Please use pandas._libs.tslib.normalize_date instead.\n",
      "  \"\"\"Entry point for launching an IPython kernel.\n"
     ]
    }
   ],
   "source": [
    "taxi['lpep_pickup_datetime'] = taxi['lpep_pickup_datetime'].apply(pd.datetools.normalize_date)"
   ]
  },
  {
   "cell_type": "code",
   "execution_count": 89,
   "metadata": {
    "collapsed": true
   },
   "outputs": [],
   "source": [
    "taxi_rides = taxi.groupby(['lpep_pickup_datetime'])['lpep_pickup_datetime'].count()"
   ]
  },
  {
   "cell_type": "code",
   "execution_count": 90,
   "metadata": {
    "collapsed": true
   },
   "outputs": [],
   "source": [
    "taxi_rides = taxi_rides.to_frame('Rides Count').reset_index()"
   ]
  },
  {
   "cell_type": "code",
   "execution_count": 91,
   "metadata": {
    "collapsed": true
   },
   "outputs": [],
   "source": [
    "taxi_rides = taxi_rides.rename(index=str, columns={\"lpep_pickup_datetime\": \"Taxi Pick Up\"})"
   ]
  },
  {
   "cell_type": "code",
   "execution_count": 92,
   "metadata": {},
   "outputs": [
    {
     "data": {
      "text/html": [
       "<div>\n",
       "<style>\n",
       "    .dataframe thead tr:only-child th {\n",
       "        text-align: right;\n",
       "    }\n",
       "\n",
       "    .dataframe thead th {\n",
       "        text-align: left;\n",
       "    }\n",
       "\n",
       "    .dataframe tbody tr th {\n",
       "        vertical-align: top;\n",
       "    }\n",
       "</style>\n",
       "<table border=\"1\" class=\"dataframe\">\n",
       "  <thead>\n",
       "    <tr style=\"text-align: right;\">\n",
       "      <th></th>\n",
       "      <th>Taxi Pick Up</th>\n",
       "      <th>Rides Count</th>\n",
       "    </tr>\n",
       "  </thead>\n",
       "  <tbody>\n",
       "    <tr>\n",
       "      <th>0</th>\n",
       "      <td>2016-01-01</td>\n",
       "      <td>64396</td>\n",
       "    </tr>\n",
       "    <tr>\n",
       "      <th>1</th>\n",
       "      <td>2016-01-02</td>\n",
       "      <td>46958</td>\n",
       "    </tr>\n",
       "    <tr>\n",
       "      <th>2</th>\n",
       "      <td>2016-01-03</td>\n",
       "      <td>44270</td>\n",
       "    </tr>\n",
       "    <tr>\n",
       "      <th>3</th>\n",
       "      <td>2016-01-04</td>\n",
       "      <td>43740</td>\n",
       "    </tr>\n",
       "    <tr>\n",
       "      <th>4</th>\n",
       "      <td>2016-01-05</td>\n",
       "      <td>42342</td>\n",
       "    </tr>\n",
       "  </tbody>\n",
       "</table>\n",
       "</div>"
      ],
      "text/plain": [
       "  Taxi Pick Up  Rides Count\n",
       "0   2016-01-01        64396\n",
       "1   2016-01-02        46958\n",
       "2   2016-01-03        44270\n",
       "3   2016-01-04        43740\n",
       "4   2016-01-05        42342"
      ]
     },
     "execution_count": 92,
     "metadata": {},
     "output_type": "execute_result"
    }
   ],
   "source": [
    "taxi_rides.head()"
   ]
  },
  {
   "cell_type": "markdown",
   "metadata": {},
   "source": [
    "## EX04\n",
    "(10 pts)\n",
    "\n",
    "Combine the two files so that I have a clean data set that would allow someone to answer the question you said you were building a dataset for in EX01. "
   ]
  },
  {
   "cell_type": "code",
   "execution_count": 93,
   "metadata": {
    "collapsed": true
   },
   "outputs": [],
   "source": [
    "result = pd.concat([parking_violations, taxi_rides], axis=1)"
   ]
  },
  {
   "cell_type": "code",
   "execution_count": 94,
   "metadata": {},
   "outputs": [
    {
     "data": {
      "text/html": [
       "<div>\n",
       "<style>\n",
       "    .dataframe thead tr:only-child th {\n",
       "        text-align: right;\n",
       "    }\n",
       "\n",
       "    .dataframe thead th {\n",
       "        text-align: left;\n",
       "    }\n",
       "\n",
       "    .dataframe tbody tr th {\n",
       "        vertical-align: top;\n",
       "    }\n",
       "</style>\n",
       "<table border=\"1\" class=\"dataframe\">\n",
       "  <thead>\n",
       "    <tr style=\"text-align: right;\">\n",
       "      <th></th>\n",
       "      <th>Violation Issue Date</th>\n",
       "      <th>Violations Count</th>\n",
       "      <th>Taxi Pick Up</th>\n",
       "      <th>Rides Count</th>\n",
       "    </tr>\n",
       "  </thead>\n",
       "  <tbody>\n",
       "    <tr>\n",
       "      <th>0</th>\n",
       "      <td>2016-01-01</td>\n",
       "      <td>5202.0</td>\n",
       "      <td>2016-01-01</td>\n",
       "      <td>64396</td>\n",
       "    </tr>\n",
       "    <tr>\n",
       "      <th>1</th>\n",
       "      <td>2016-01-02</td>\n",
       "      <td>16881.0</td>\n",
       "      <td>2016-01-02</td>\n",
       "      <td>46958</td>\n",
       "    </tr>\n",
       "    <tr>\n",
       "      <th>10</th>\n",
       "      <td>2016-01-11</td>\n",
       "      <td>40250.0</td>\n",
       "      <td>2016-01-11</td>\n",
       "      <td>41603</td>\n",
       "    </tr>\n",
       "    <tr>\n",
       "      <th>100</th>\n",
       "      <td>2016-04-10</td>\n",
       "      <td>9124.0</td>\n",
       "      <td>2016-04-10</td>\n",
       "      <td>56024</td>\n",
       "    </tr>\n",
       "    <tr>\n",
       "      <th>101</th>\n",
       "      <td>2016-04-11</td>\n",
       "      <td>37435.0</td>\n",
       "      <td>2016-04-11</td>\n",
       "      <td>42216</td>\n",
       "    </tr>\n",
       "  </tbody>\n",
       "</table>\n",
       "</div>"
      ],
      "text/plain": [
       "    Violation Issue Date  Violations Count Taxi Pick Up  Rides Count\n",
       "0             2016-01-01            5202.0   2016-01-01        64396\n",
       "1             2016-01-02           16881.0   2016-01-02        46958\n",
       "10            2016-01-11           40250.0   2016-01-11        41603\n",
       "100           2016-04-10            9124.0   2016-04-10        56024\n",
       "101           2016-04-11           37435.0   2016-04-11        42216"
      ]
     },
     "execution_count": 94,
     "metadata": {},
     "output_type": "execute_result"
    }
   ],
   "source": [
    "result.head()"
   ]
  },
  {
   "cell_type": "markdown",
   "metadata": {},
   "source": [
    "## EX05\n",
    "(20 pts)  \n",
    "Nobody likes undocumented data.  \n",
    "Create the metadata for your DataFrame. Think back to the imports-85.names file from WK04 and the kind of information that it provides. It answers questions like, but not limited to:  \n",
    "* How many rows are in your DataFrame? \n",
    "* How many columns are in your DataFrame? \n",
    "* What are the names of the columns? \n",
    "* What kind of data are in each column?\n",
    "* Is there any missing values? Where and how many?\n"
   ]
  },
  {
   "cell_type": "code",
   "execution_count": 96,
   "metadata": {},
   "outputs": [
    {
     "name": "stdout",
     "output_type": "stream",
     "text": [
      "1. Title: Result Database\n",
      "\n",
      "2. Number of Instances: 366\n",
      "\n",
      "3. Number of Attributes: 4 total\n",
      "\n",
      "4. Attribute Information:     \n",
      "     Attribute:                Attribute Range:\n",
      "     ------------------        -----------------------------------------------\n",
      "  1. Violation Issue Date:     01/01/2016 - 12/31/2016.\n",
      "  2. Violations Count:         continuous from 0 to 700000.\n",
      "  3. Taxi Pick Up:             01/01/2016 - 12/31/2016.\n",
      "  4. Rides Count:              continuous from 0 to 700000.\n",
      "\n",
      "\n",
      "5. Missing Attribute Values: (denoted by \"?\")\n",
      "   Attribute #:   Number of instances missing a value:\n",
      "   None \n",
      "\n",
      "\n"
     ]
    }
   ],
   "source": [
    "txt = open('data/metadata.names', 'r')\n",
    "print(txt.read())"
   ]
  },
  {
   "cell_type": "markdown",
   "metadata": {},
   "source": [
    "## EX06\n",
    "(20 pts)  \n",
    "  \n",
    "Explain how your DataFrame (preferably with pretty pictures, but numbers and words are good too) answers your question."
   ]
  },
  {
   "cell_type": "code",
   "execution_count": 106,
   "metadata": {},
   "outputs": [
    {
     "data": {
      "text/plain": [
       "<matplotlib.text.Text at 0x14441d7b8>"
      ]
     },
     "execution_count": 106,
     "metadata": {},
     "output_type": "execute_result"
    },
    {
     "data": {
      "image/png": "[encoded data removed]",
      "text/plain": [
       "<matplotlib.figure.Figure at 0x13a70e550>"
      ]
     },
     "metadata": {},
     "output_type": "display_data"
    }
   ],
   "source": [
    "ax = result.plot(x='Taxi Pick Up', kind='line', title =\"Parking Violations and Taxi Rides\", figsize=(15, 10), legend=True, fontsize=14)\n",
    "ax.set_xlabel(\"Date\", fontsize=14)\n",
    "ax.set_ylabel(\"Count\", fontsize=14)"
   ]
  },
  {
   "cell_type": "markdown",
   "metadata": {},
   "source": [
    "The number of violations issued did affect the use of taxis slightly. "
   ]
  },
  {
   "cell_type": "code",
   "execution_count": null,
   "metadata": {
    "collapsed": true
   },
   "outputs": [],
   "source": []
  }
 ],
 "metadata": {
  "kernelspec": {
   "display_name": "Python 3",
   "language": "python",
   "name": "python3"
  },
  "language_info": {
   "codemirror_mode": {
    "name": "ipython",
    "version": 3
   },
   "file_extension": ".py",
   "mimetype": "text/x-python",
   "name": "python",
   "nbconvert_exporter": "python",
   "pygments_lexer": "ipython3",
   "version": "3.6.1"
  }
 },
 "nbformat": 4,
 "nbformat_minor": 2
}
